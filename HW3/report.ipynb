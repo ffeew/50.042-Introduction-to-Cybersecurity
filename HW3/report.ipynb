{
 "cells": [
  {
   "cell_type": "markdown",
   "id": "applicable-mozambique",
   "metadata": {},
   "source": [
    "# FCS Lab 3 - MD5, Rainbow Tables"
   ]
  },
  {
   "cell_type": "markdown",
   "id": "beneficial-constitutional",
   "metadata": {},
   "source": [
    "* Name(s): Koh Aik Hong\n",
    "* Student ID(s): 1005139"
   ]
  },
  {
   "cell_type": "markdown",
   "id": "identified-wagon",
   "metadata": {},
   "source": [
    "## Part I: Hashing Using MD5\n",
    "\n",
    "* How does the length of the hash correspond to the input string?"
   ]
  },
  {
   "cell_type": "markdown",
   "id": "international-combining",
   "metadata": {},
   "source": [
    "The length of the hash is independent of the length of the input string"
   ]
  },
  {
   "cell_type": "markdown",
   "id": "million-aberdeen",
   "metadata": {},
   "source": [
    "* Are there any visible correlations between the hash and the input string?"
   ]
  },
  {
   "cell_type": "markdown",
   "id": "rough-boutique",
   "metadata": {},
   "source": [
    "No visible correlations are present between the hash and input string"
   ]
  },
  {
   "cell_type": "markdown",
   "id": "protective-twenty",
   "metadata": {},
   "source": [
    "* What are the issues related to the cryptographic weakness of MD5?"
   ]
  },
  {
   "cell_type": "markdown",
   "id": "endangered-conspiracy",
   "metadata": {},
   "source": [
    "MD5 is vulnerable to collision attacks and length extension attacks. Digital certificates can be easily forged by obtaining the same hash whilst having different contents through a hash collision. The reason is because MD5 is too fast and memory-conserving, it allows for hackers to easily find a collision through brute force."
   ]
  },
  {
   "cell_type": "markdown",
   "id": "satisfied-packet",
   "metadata": {},
   "source": [
    "## Part II: Break Hashes with Brute Force\n",
    "\n",
    "* How much time did you take in total?"
   ]
  },
  {
   "cell_type": "markdown",
   "id": "acoustic-vietnam",
   "metadata": {},
   "source": [
    "193.81903076171875 seconds"
   ]
  },
  {
   "cell_type": "markdown",
   "id": "other-worry",
   "metadata": {},
   "source": [
    "* How much time does it take to crack each string, on average?"
   ]
  },
  {
   "cell_type": "markdown",
   "id": "allied-dragon",
   "metadata": {},
   "source": [
    "12.921268717447917 seconds"
   ]
  },
  {
   "cell_type": "markdown",
   "id": "grave-phase",
   "metadata": {},
   "source": [
    "* Is it possible to amortize (gradually write off the initial cost of) the brute forcing attempts?"
   ]
  },
  {
   "cell_type": "markdown",
   "id": "typical-broadcasting",
   "metadata": {},
   "source": [
    "Yes, a rainbow table can be used to speed up the password cracking process, but it takes time to generate it. After the rainbow table is generated, it can be used for many times, thus amortizing the brute force attempts."
   ]
  },
  {
   "cell_type": "markdown",
   "id": "stunning-undergraduate",
   "metadata": {},
   "source": [
    "## Part III: Creating Rainbow Tables\n",
    "\n",
    "* Is rcrack faster/slower than your script ex2.py? By how much faster/slower is it?"
   ]
  },
  {
   "cell_type": "markdown",
   "id": "marine-hudson",
   "metadata": {},
   "source": [
    "rcrack is much faster than ex2.py. rcrack managed to find all the plaintexts in 6.79s, about 28.54 times faster than ex2.py"
   ]
  },
  {
   "cell_type": "markdown",
   "id": "international-argument",
   "metadata": {},
   "source": [
    "* Do you observe any advantages or disadvantages of using rainbowcrack?"
   ]
  },
  {
   "cell_type": "markdown",
   "id": "received-fellowship",
   "metadata": {},
   "source": [
    "rainbowcrack allows for a much faster hash breaking process, however, it comes at the cost of memory usage. The rainbow table generated takes up a lot of storage.\n",
    "\n",
    "Additionally, it takes time for the rainbow table to be generated, the larger the rainbow table, the longer it takes to generate. If the rainbow table is only used once, it will be faster to just use brute force to crack the passwords."
   ]
  },
  {
   "cell_type": "markdown",
   "id": "pleasant-threat",
   "metadata": {},
   "source": [
    "## Part IV: Salt\n",
    "\n",
    "* What is the observed differences between your ease of cracking the salted vs the unsalted plaintexts?"
   ]
  },
  {
   "cell_type": "markdown",
   "id": "bizarre-worker",
   "metadata": {},
   "source": [
    "It was much harder to crack the salted plaintexts due to the increased complexity of the plaintext"
   ]
  },
  {
   "cell_type": "markdown",
   "id": "novel-party",
   "metadata": {},
   "source": [
    "* Report the difference in time observed to crack."
   ]
  },
  {
   "cell_type": "markdown",
   "id": "private-collective",
   "metadata": {},
   "source": [
    "Time taken to generate the rainbow table that cracks all 15 salted hashes: 1.39 minutes\n",
    "\n",
    "Time taken to crack all 15 unsalted hashes using the generated rainbow table: 6.79 seconds\n",
    "\n",
    "<br>\n",
    "\n",
    "Time taken to generate the rainbow table that cracks all 15 salted hashes: 33.145 minutes\n",
    "\n",
    "Time taken to crack all 15 salted hashes using the generated rainbow table: 12.76 seconds\n",
    "\n",
    "<br>\n",
    "\n",
    "Difference in time observed:\n",
    "\n",
    "2001.46 seconds - 90.16 seconds = 31.855 minutes"
   ]
  },
  {
   "cell_type": "markdown",
   "id": "practical-transportation",
   "metadata": {},
   "source": [
    "* Explain any differences between salted and non salted rcrack strategies."
   ]
  },
  {
   "cell_type": "markdown",
   "id": "excessive-pearl",
   "metadata": {},
   "source": [
    "Salted hashes requires a larger rainbow table to crack when compared to unsalted hashes.\n",
    "\n",
    "Using rainbow table with chain length of 3800 and chain number of 600000, rcrack was able to crack all the original 15 unsalted hashes.\n",
    "\n",
    "However, when using a rainbow table of chain length of 5000 and chain number of 1000000, rcrack only managed to crack 14/15 unsalted hashes.\n",
    "\n",
    "Another rainbow table was generated with chain length of 6000 and chain number of 10000000, using that rainbow table, rcrack was able to crack all 15 salted hashes.\n",
    "\n",
    "Thus, it is evident that salted hashes require a much larger rainbow table to crack"
   ]
  },
  {
   "cell_type": "markdown",
   "id": "endangered-address",
   "metadata": {},
   "source": [
    "## Part V: Hash Breaking Competition\n",
    "\n",
    "* What is the approach you used to crack the hashes"
   ]
  },
  {
   "cell_type": "markdown",
   "id": "outside-malpractice",
   "metadata": {},
   "source": [
    "I have used 2 approaches to crack the hashes, namely rainbow table using rainbowcrack, brute-force and dictionary+mask using hashcat."
   ]
  },
  {
   "cell_type": "markdown",
   "id": "obvious-cassette",
   "metadata": {},
   "source": [
    "* How you decided or designed your approach"
   ]
  },
  {
   "cell_type": "markdown",
   "id": "chicken-blast",
   "metadata": {},
   "source": [
    "Initially I chose rainbowcrack to crack the hashes. However, after the first rainbow table was generated, I realised that rcrack was only able to crack 3 hashes out of 148. The hash table that I generated over 3 hours (min length = 1, max length = 15, chain length = 10000, number of chains = 10000000) was too small for rcrack to find all the hashes. Thus, I found that it was unfeasible to generate a large enough hash table that could break all the hashes.\n",
    "\n",
    "Subsequently, I chose hashcat to implement a brute-force attack. Hashcat was a good choice since it utilizes the GPU for the computation of the hashes, allowing for much faster computation as compared to using the CPU. However, after running for about a day, it only managed to exhaust all the password combinations till 7 characters long. To exhaust all the 8 character passwords, the estimated time of completion was 12 days.\n",
    "\n",
    "Therefore, I decided to try another method that hashcat offered, the dictionary + mask attack, named as a hybrid attack in hashcat. I used the rockyou.txt wordlist and appended to it 1-3 characters. Since trying out all the characters in the string.printable list is still not too computationally expensive, needing only 30minutes to complete the attack, I went with 3 characters at the maximum. After appending the characters to the wordlist, I re-ran the attack by prepending characters to the wordlist. This is to cover the cases where the salt is prepended to the password."
   ]
  },
  {
   "cell_type": "markdown",
   "id": "simple-cookbook",
   "metadata": {},
   "source": [
    "* Main challenges and limitations of your approach"
   ]
  },
  {
   "cell_type": "markdown",
   "id": "future-tulsa",
   "metadata": {},
   "source": [
    "The initial approach, rainbowcrack, had a long rainbow table generation process and the rainbow table takes up a lot of space. There are pre-generated rainbow tables available online that has up to 8 plaintext characters for the full keyspace, but that is 1 terabyte and space soon becomes a constraint when trying to use the pre-generated rainbow tables.\n",
    "\n",
    "With Hashcat, despite utilizing the GPU, as the length of the plaintext increases, the time taken to exhaust all possible permutations increases greatly. So much so that trying to crack a 9 character password using brutefore is likely impossible within a few weeks. Although the hybrid attack is fast, it does not guarantee the cracking of all hashes and I was only able to crack slightly over 1/2 of the hashes in the hashes.txt file."
   ]
  },
  {
   "cell_type": "markdown",
   "id": "original-halifax",
   "metadata": {},
   "source": [
    "* How many hashes did you manage to crack?"
   ]
  },
  {
   "cell_type": "markdown",
   "id": "b4da7c05",
   "metadata": {},
   "source": [
    "I've managed to crack 81 hashes."
   ]
  }
 ],
 "metadata": {
  "kernelspec": {
   "display_name": "Python 3",
   "language": "python",
   "name": "python3"
  },
  "language_info": {
   "codemirror_mode": {
    "name": "ipython",
    "version": 3
   },
   "file_extension": ".py",
   "mimetype": "text/x-python",
   "name": "python",
   "nbconvert_exporter": "python",
   "pygments_lexer": "ipython3",
   "version": "3.9.1"
  }
 },
 "nbformat": 4,
 "nbformat_minor": 5
}
